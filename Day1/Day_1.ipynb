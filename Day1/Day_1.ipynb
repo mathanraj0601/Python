{
  "nbformat": 4,
  "nbformat_minor": 0,
  "metadata": {
    "colab": {
      "provenance": [],
      "toc_visible": true,
      "authorship_tag": "ABX9TyOiiI0KNHgLSzux1LEZQkdB"
    },
    "kernelspec": {
      "name": "python3",
      "display_name": "Python 3"
    },
    "language_info": {
      "name": "python"
    }
  },
  "cells": [
    {
      "cell_type": "code",
      "execution_count": 2,
      "metadata": {
        "id": "7TMoE84sWc9F",
        "colab": {
          "base_uri": "https://localhost:8080/"
        },
        "outputId": "f87754b0-e076-44d9-f790-cb4d880fa071"
      },
      "outputs": [
        {
          "output_type": "stream",
          "name": "stdout",
          "text": [
            "Getting stated with python\n"
          ]
        }
      ],
      "source": [
        "print(\"Getting stated with python\")"
      ]
    },
    {
      "cell_type": "markdown",
      "source": [],
      "metadata": {
        "id": "N_2_idEsY0re"
      }
    }
  ]
}